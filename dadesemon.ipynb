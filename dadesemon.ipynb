{
 "cells": [
  {
   "cell_type": "code",
   "execution_count": 5,
   "metadata": {
    "collapsed": false
   },
   "outputs": [],
   "source": [
    "#!/usr/bin/python\n",
    "import numpy as np\n",
    "import scipy as sc\n",
    "#import matplotlib.pyplot as plt\n",
    "import os, sys, bz2\n",
    "import pandas as pd\n",
    "import datetime\n",
    "%matplotlib inline"
   ]
  },
  {
   "cell_type": "code",
   "execution_count": 6,
   "metadata": {
    "collapsed": false
   },
   "outputs": [],
   "source": [
    "col_names = [ 'date','time','Vrms',\n",
    "          'Irms1', 'realPower1', 'apparentPower1', 'powerFactor1', \n",
    "          'Irms2', 'realPower2', 'apparentPower2', 'powerFactor2', \n",
    "          'Irms3', 'realPower3', 'apparentPower3', 'powerFactor3'\n",
    "         ]"
   ]
  },
  {
   "cell_type": "code",
   "execution_count": 7,
   "metadata": {
    "collapsed": false
   },
   "outputs": [],
   "source": [
    "#leemos los datos y los guardamos en un pandas datafraem\n",
    "data = pd.read_csv('dades/DadesArduino3-160104.res.bz2', \n",
    "                   sep=' ', \n",
    "                   compression='bz2',\n",
    "                   header = None,\n",
    "                   names = col_names,\n",
    "                   index_col=False\n",
    "                   )"
   ]
  },
  {
   "cell_type": "code",
   "execution_count": 8,
   "metadata": {
    "collapsed": false
   },
   "outputs": [
    {
     "data": {
      "text/html": [
       "<div>\n",
       "<table border=\"1\" class=\"dataframe\">\n",
       "  <thead>\n",
       "    <tr style=\"text-align: right;\">\n",
       "      <th></th>\n",
       "      <th>date</th>\n",
       "      <th>time</th>\n",
       "      <th>Vrms</th>\n",
       "      <th>Irms1</th>\n",
       "      <th>realPower1</th>\n",
       "      <th>apparentPower1</th>\n",
       "      <th>powerFactor1</th>\n",
       "      <th>Irms2</th>\n",
       "      <th>realPower2</th>\n",
       "      <th>apparentPower2</th>\n",
       "      <th>powerFactor2</th>\n",
       "      <th>Irms3</th>\n",
       "      <th>realPower3</th>\n",
       "      <th>apparentPower3</th>\n",
       "      <th>powerFactor3</th>\n",
       "    </tr>\n",
       "  </thead>\n",
       "  <tbody>\n",
       "    <tr>\n",
       "      <th>0</th>\n",
       "      <td>03/01/16</td>\n",
       "      <td>00:00:04</td>\n",
       "      <td>236.676</td>\n",
       "      <td>1.053</td>\n",
       "      <td>178.030</td>\n",
       "      <td>249.324</td>\n",
       "      <td>0.714</td>\n",
       "      <td>1.460</td>\n",
       "      <td>217.577</td>\n",
       "      <td>345.585</td>\n",
       "      <td>0.630</td>\n",
       "      <td>1.195</td>\n",
       "      <td>198.599</td>\n",
       "      <td>282.771</td>\n",
       "      <td>0.702</td>\n",
       "    </tr>\n",
       "    <tr>\n",
       "      <th>1</th>\n",
       "      <td>03/01/16</td>\n",
       "      <td>00:00:14</td>\n",
       "      <td>236.536</td>\n",
       "      <td>1.059</td>\n",
       "      <td>178.168</td>\n",
       "      <td>250.380</td>\n",
       "      <td>0.712</td>\n",
       "      <td>1.475</td>\n",
       "      <td>220.301</td>\n",
       "      <td>348.803</td>\n",
       "      <td>0.632</td>\n",
       "      <td>1.190</td>\n",
       "      <td>195.973</td>\n",
       "      <td>281.530</td>\n",
       "      <td>0.696</td>\n",
       "    </tr>\n",
       "    <tr>\n",
       "      <th>2</th>\n",
       "      <td>03/01/16</td>\n",
       "      <td>00:00:25</td>\n",
       "      <td>237.490</td>\n",
       "      <td>1.068</td>\n",
       "      <td>180.483</td>\n",
       "      <td>253.580</td>\n",
       "      <td>0.712</td>\n",
       "      <td>1.490</td>\n",
       "      <td>222.580</td>\n",
       "      <td>353.886</td>\n",
       "      <td>0.629</td>\n",
       "      <td>1.144</td>\n",
       "      <td>190.530</td>\n",
       "      <td>271.717</td>\n",
       "      <td>0.701</td>\n",
       "    </tr>\n",
       "    <tr>\n",
       "      <th>3</th>\n",
       "      <td>03/01/16</td>\n",
       "      <td>00:00:35</td>\n",
       "      <td>237.590</td>\n",
       "      <td>1.055</td>\n",
       "      <td>179.452</td>\n",
       "      <td>250.773</td>\n",
       "      <td>0.716</td>\n",
       "      <td>1.506</td>\n",
       "      <td>202.373</td>\n",
       "      <td>357.724</td>\n",
       "      <td>0.566</td>\n",
       "      <td>1.274</td>\n",
       "      <td>216.830</td>\n",
       "      <td>302.628</td>\n",
       "      <td>0.716</td>\n",
       "    </tr>\n",
       "    <tr>\n",
       "      <th>4</th>\n",
       "      <td>03/01/16</td>\n",
       "      <td>00:00:46</td>\n",
       "      <td>237.964</td>\n",
       "      <td>1.057</td>\n",
       "      <td>180.485</td>\n",
       "      <td>251.443</td>\n",
       "      <td>0.718</td>\n",
       "      <td>1.546</td>\n",
       "      <td>207.429</td>\n",
       "      <td>367.898</td>\n",
       "      <td>0.564</td>\n",
       "      <td>1.157</td>\n",
       "      <td>193.703</td>\n",
       "      <td>275.364</td>\n",
       "      <td>0.703</td>\n",
       "    </tr>\n",
       "  </tbody>\n",
       "</table>\n",
       "</div>"
      ],
      "text/plain": [
       "       date      time     Vrms  Irms1  realPower1  apparentPower1  \\\n",
       "0  03/01/16  00:00:04  236.676  1.053     178.030         249.324   \n",
       "1  03/01/16  00:00:14  236.536  1.059     178.168         250.380   \n",
       "2  03/01/16  00:00:25  237.490  1.068     180.483         253.580   \n",
       "3  03/01/16  00:00:35  237.590  1.055     179.452         250.773   \n",
       "4  03/01/16  00:00:46  237.964  1.057     180.485         251.443   \n",
       "\n",
       "   powerFactor1  Irms2  realPower2  apparentPower2  powerFactor2  Irms3  \\\n",
       "0         0.714  1.460     217.577         345.585         0.630  1.195   \n",
       "1         0.712  1.475     220.301         348.803         0.632  1.190   \n",
       "2         0.712  1.490     222.580         353.886         0.629  1.144   \n",
       "3         0.716  1.506     202.373         357.724         0.566  1.274   \n",
       "4         0.718  1.546     207.429         367.898         0.564  1.157   \n",
       "\n",
       "   realPower3  apparentPower3  powerFactor3  \n",
       "0     198.599         282.771         0.702  \n",
       "1     195.973         281.530         0.696  \n",
       "2     190.530         271.717         0.701  \n",
       "3     216.830         302.628         0.716  \n",
       "4     193.703         275.364         0.703  "
      ]
     },
     "execution_count": 8,
     "metadata": {},
     "output_type": "execute_result"
    }
   ],
   "source": [
    "data.head()"
   ]
  },
  {
   "cell_type": "code",
   "execution_count": 9,
   "metadata": {
    "collapsed": false
   },
   "outputs": [],
   "source": [
    "#index en formato de datetime\n",
    "data.index = pd.to_datetime(data['date'] + ' ' + data['time'], dayfirst = True)"
   ]
  },
  {
   "cell_type": "code",
   "execution_count": 10,
   "metadata": {
    "collapsed": false
   },
   "outputs": [],
   "source": [
    "#calcular el delta time\n",
    "data['tvalue'] = data.index\n",
    "data['delta'] = (data['tvalue']-data['tvalue'].shift()).fillna(0)/ np.timedelta64(1,'s')"
   ]
  },
  {
   "cell_type": "code",
   "execution_count": 11,
   "metadata": {
    "collapsed": false
   },
   "outputs": [
    {
     "data": {
      "text/html": [
       "<div>\n",
       "<table border=\"1\" class=\"dataframe\">\n",
       "  <thead>\n",
       "    <tr style=\"text-align: right;\">\n",
       "      <th></th>\n",
       "      <th>date</th>\n",
       "      <th>time</th>\n",
       "      <th>Vrms</th>\n",
       "      <th>Irms1</th>\n",
       "      <th>realPower1</th>\n",
       "      <th>apparentPower1</th>\n",
       "      <th>powerFactor1</th>\n",
       "      <th>Irms2</th>\n",
       "      <th>realPower2</th>\n",
       "      <th>apparentPower2</th>\n",
       "      <th>powerFactor2</th>\n",
       "      <th>Irms3</th>\n",
       "      <th>realPower3</th>\n",
       "      <th>apparentPower3</th>\n",
       "      <th>powerFactor3</th>\n",
       "      <th>tvalue</th>\n",
       "      <th>delta</th>\n",
       "    </tr>\n",
       "  </thead>\n",
       "  <tbody>\n",
       "    <tr>\n",
       "      <th>2016-01-03 00:00:04</th>\n",
       "      <td>03/01/16</td>\n",
       "      <td>00:00:04</td>\n",
       "      <td>236.676</td>\n",
       "      <td>1.053</td>\n",
       "      <td>178.030</td>\n",
       "      <td>249.324</td>\n",
       "      <td>0.714</td>\n",
       "      <td>1.460</td>\n",
       "      <td>217.577</td>\n",
       "      <td>345.585</td>\n",
       "      <td>0.630</td>\n",
       "      <td>1.195</td>\n",
       "      <td>198.599</td>\n",
       "      <td>282.771</td>\n",
       "      <td>0.702</td>\n",
       "      <td>2016-01-03 00:00:04</td>\n",
       "      <td>0</td>\n",
       "    </tr>\n",
       "    <tr>\n",
       "      <th>2016-01-03 00:00:14</th>\n",
       "      <td>03/01/16</td>\n",
       "      <td>00:00:14</td>\n",
       "      <td>236.536</td>\n",
       "      <td>1.059</td>\n",
       "      <td>178.168</td>\n",
       "      <td>250.380</td>\n",
       "      <td>0.712</td>\n",
       "      <td>1.475</td>\n",
       "      <td>220.301</td>\n",
       "      <td>348.803</td>\n",
       "      <td>0.632</td>\n",
       "      <td>1.190</td>\n",
       "      <td>195.973</td>\n",
       "      <td>281.530</td>\n",
       "      <td>0.696</td>\n",
       "      <td>2016-01-03 00:00:14</td>\n",
       "      <td>10</td>\n",
       "    </tr>\n",
       "    <tr>\n",
       "      <th>2016-01-03 00:00:25</th>\n",
       "      <td>03/01/16</td>\n",
       "      <td>00:00:25</td>\n",
       "      <td>237.490</td>\n",
       "      <td>1.068</td>\n",
       "      <td>180.483</td>\n",
       "      <td>253.580</td>\n",
       "      <td>0.712</td>\n",
       "      <td>1.490</td>\n",
       "      <td>222.580</td>\n",
       "      <td>353.886</td>\n",
       "      <td>0.629</td>\n",
       "      <td>1.144</td>\n",
       "      <td>190.530</td>\n",
       "      <td>271.717</td>\n",
       "      <td>0.701</td>\n",
       "      <td>2016-01-03 00:00:25</td>\n",
       "      <td>11</td>\n",
       "    </tr>\n",
       "    <tr>\n",
       "      <th>2016-01-03 00:00:35</th>\n",
       "      <td>03/01/16</td>\n",
       "      <td>00:00:35</td>\n",
       "      <td>237.590</td>\n",
       "      <td>1.055</td>\n",
       "      <td>179.452</td>\n",
       "      <td>250.773</td>\n",
       "      <td>0.716</td>\n",
       "      <td>1.506</td>\n",
       "      <td>202.373</td>\n",
       "      <td>357.724</td>\n",
       "      <td>0.566</td>\n",
       "      <td>1.274</td>\n",
       "      <td>216.830</td>\n",
       "      <td>302.628</td>\n",
       "      <td>0.716</td>\n",
       "      <td>2016-01-03 00:00:35</td>\n",
       "      <td>10</td>\n",
       "    </tr>\n",
       "    <tr>\n",
       "      <th>2016-01-03 00:00:46</th>\n",
       "      <td>03/01/16</td>\n",
       "      <td>00:00:46</td>\n",
       "      <td>237.964</td>\n",
       "      <td>1.057</td>\n",
       "      <td>180.485</td>\n",
       "      <td>251.443</td>\n",
       "      <td>0.718</td>\n",
       "      <td>1.546</td>\n",
       "      <td>207.429</td>\n",
       "      <td>367.898</td>\n",
       "      <td>0.564</td>\n",
       "      <td>1.157</td>\n",
       "      <td>193.703</td>\n",
       "      <td>275.364</td>\n",
       "      <td>0.703</td>\n",
       "      <td>2016-01-03 00:00:46</td>\n",
       "      <td>11</td>\n",
       "    </tr>\n",
       "  </tbody>\n",
       "</table>\n",
       "</div>"
      ],
      "text/plain": [
       "                         date      time     Vrms  Irms1  realPower1  \\\n",
       "2016-01-03 00:00:04  03/01/16  00:00:04  236.676  1.053     178.030   \n",
       "2016-01-03 00:00:14  03/01/16  00:00:14  236.536  1.059     178.168   \n",
       "2016-01-03 00:00:25  03/01/16  00:00:25  237.490  1.068     180.483   \n",
       "2016-01-03 00:00:35  03/01/16  00:00:35  237.590  1.055     179.452   \n",
       "2016-01-03 00:00:46  03/01/16  00:00:46  237.964  1.057     180.485   \n",
       "\n",
       "                     apparentPower1  powerFactor1  Irms2  realPower2  \\\n",
       "2016-01-03 00:00:04         249.324         0.714  1.460     217.577   \n",
       "2016-01-03 00:00:14         250.380         0.712  1.475     220.301   \n",
       "2016-01-03 00:00:25         253.580         0.712  1.490     222.580   \n",
       "2016-01-03 00:00:35         250.773         0.716  1.506     202.373   \n",
       "2016-01-03 00:00:46         251.443         0.718  1.546     207.429   \n",
       "\n",
       "                     apparentPower2  powerFactor2  Irms3  realPower3  \\\n",
       "2016-01-03 00:00:04         345.585         0.630  1.195     198.599   \n",
       "2016-01-03 00:00:14         348.803         0.632  1.190     195.973   \n",
       "2016-01-03 00:00:25         353.886         0.629  1.144     190.530   \n",
       "2016-01-03 00:00:35         357.724         0.566  1.274     216.830   \n",
       "2016-01-03 00:00:46         367.898         0.564  1.157     193.703   \n",
       "\n",
       "                     apparentPower3  powerFactor3              tvalue  delta  \n",
       "2016-01-03 00:00:04         282.771         0.702 2016-01-03 00:00:04      0  \n",
       "2016-01-03 00:00:14         281.530         0.696 2016-01-03 00:00:14     10  \n",
       "2016-01-03 00:00:25         271.717         0.701 2016-01-03 00:00:25     11  \n",
       "2016-01-03 00:00:35         302.628         0.716 2016-01-03 00:00:35     10  \n",
       "2016-01-03 00:00:46         275.364         0.703 2016-01-03 00:00:46     11  "
      ]
     },
     "execution_count": 11,
     "metadata": {},
     "output_type": "execute_result"
    }
   ],
   "source": [
    "data.head()"
   ]
  },
  {
   "cell_type": "code",
   "execution_count": 12,
   "metadata": {
    "collapsed": false
   },
   "outputs": [],
   "source": [
    "data.realEnergy1 = data.realPower1 * data.delta / (60*60*1000)\n",
    "data.realEnergy2 = data.realPower2 * data.delta / (60*60*1000)\n",
    "data.realEnergy3 = data.realPower3 * data.delta / (60*60*1000)"
   ]
  },
  {
   "cell_type": "raw",
   "metadata": {},
   "source": [
    "Los resultados del escript del Enric para verificar:\n",
    "03/01/16\n",
    "Consum en KWh L1:  3.11382561917\n",
    "Consum en KWh L2:  4.37083229889\n",
    "Consum en KWh L3:  5.84532921972"
   ]
  },
  {
   "cell_type": "code",
   "execution_count": 13,
   "metadata": {
    "collapsed": false,
    "scrolled": true
   },
   "outputs": [
    {
     "name": "stdout",
     "output_type": "stream",
     "text": [
      "L1 3.09 [kWh]\n",
      "L1 4.33 [kWh]\n",
      "L1 5.80 [kWh]\n"
     ]
    }
   ],
   "source": [
    "print('L1 %0.2f [kWh]' %data.realEnergy1.sum())\n",
    "print('L1 %0.2f [kWh]' %data.realEnergy2.sum())\n",
    "print('L1 %0.2f [kWh]' %data.realEnergy3.sum())"
   ]
  },
  {
   "cell_type": "code",
   "execution_count": 14,
   "metadata": {
    "collapsed": false
   },
   "outputs": [
    {
     "data": {
      "text/plain": [
       "<matplotlib.text.Text at 0x115d19f28>"
      ]
     },
     "execution_count": 14,
     "metadata": {},
     "output_type": "execute_result"
    },
    {
     "data": {
      "image/png": "[encoded data removed]",
      "text/plain": [
       "<matplotlib.figure.Figure at 0x114777908>"
      ]
     },
     "metadata": {},
     "output_type": "display_data"
    }
   ],
   "source": [
    "ax = data.realEnergy2.plot()\n",
    "ax.set_ylabel('consum [kWh]')"
   ]
  },
  {
   "cell_type": "code",
   "execution_count": 15,
   "metadata": {
    "collapsed": false
   },
   "outputs": [
    {
     "data": {
      "text/plain": [
       "<matplotlib.text.Text at 0x115e67f60>"
      ]
     },
     "execution_count": 15,
     "metadata": {},
     "output_type": "execute_result"
    },
    {
     "data": {
      "image/png": "[encoded data removed]",
      "text/plain": [
       "<matplotlib.figure.Figure at 0x115e5e518>"
      ]
     },
     "metadata": {},
     "output_type": "display_data"
    }
   ],
   "source": [
    "ax = data.realEnergy1.resample('6H', how='sum').plot(kind='bar')\n",
    "ax.set_ylabel('consum [kWh]')\n"
   ]
  },
  {
   "cell_type": "code",
   "execution_count": 16,
   "metadata": {
    "collapsed": false
   },
   "outputs": [
    {
     "data": {
      "text/plain": [
       "<matplotlib.text.Text at 0x115f4bf60>"
      ]
     },
     "execution_count": 16,
     "metadata": {},
     "output_type": "execute_result"
    },
    {
     "data": {
      "image/png": "[encoded data removed]",
      "text/plain": [
       "<matplotlib.figure.Figure at 0x115f27c50>"
      ]
     },
     "metadata": {},
     "output_type": "display_data"
    }
   ],
   "source": [
    "allPowers = data[['realPower1', 'realPower2', 'realPower3']]\n",
    "ax = allPowers['2016-1-03 03:00':'2016-1-03 06:00'].plot()\n",
    "ax.set_ylabel('potencia [W]')"
   ]
  },
  {
   "cell_type": "code",
   "execution_count": null,
   "metadata": {
    "collapsed": true
   },
   "outputs": [],
   "source": []
  },
  {
   "cell_type": "code",
   "execution_count": null,
   "metadata": {
    "collapsed": true
   },
   "outputs": [],
   "source": []
  },
  {
   "cell_type": "code",
   "execution_count": null,
   "metadata": {
    "collapsed": true
   },
   "outputs": [],
   "source": []
  }
 ],
 "metadata": {
  "kernelspec": {
   "display_name": "Python 3",
   "language": "python",
   "name": "python3"
  },
  "language_info": {
   "codemirror_mode": {
    "name": "ipython",
    "version": 3
   },
   "file_extension": ".py",
   "mimetype": "text/x-python",
   "name": "python",
   "nbconvert_exporter": "python",
   "pygments_lexer": "ipython3",
   "version": "3.5.0"
  }
 },
 "nbformat": 4,
 "nbformat_minor": 0
}
